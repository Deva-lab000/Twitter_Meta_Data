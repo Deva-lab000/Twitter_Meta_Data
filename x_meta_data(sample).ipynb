{
  "nbformat": 4,
  "nbformat_minor": 0,
  "metadata": {
    "colab": {
      "provenance": []
    },
    "kernelspec": {
      "name": "python3",
      "display_name": "Python 3"
    },
    "language_info": {
      "name": "python"
    }
  },
  "cells": [
    {
      "cell_type": "code",
      "execution_count": null,
      "metadata": {
        "id": "VwtbC2OvxVy4"
      },
      "outputs": [],
      "source": [
        "import openai\n",
        "from langchain.chat_models import ChatOpenAI\n",
        "from langchain.chains import LLMChain\n",
        "from langchain.prompts import PromptTemplate\n",
        "from textblob import TextBlob\n",
        "import tweepy\n",
        "import os\n",
        "from langchain.chat_models import ChatOpenAI"
      ]
    },
    {
      "cell_type": "code",
      "source": [
        "# Twitter API Setup (Replace with your credentials) ---\n",
        "TWITTER_API_KEY = \"YOUR_API_KEY\"\n",
        "TWITTER_API_SECRET = \"YOUR_API_SECRET\"\n",
        "TWITTER_ACCESS_TOKEN = \"YOUR_ACCESS_TOKEN\"\n",
        "TWITTER_ACCESS_SECRET = \"YOUR_ACCESS_SECRET\""
      ],
      "metadata": {
        "id": "OYMbuR4AxeMJ"
      },
      "execution_count": null,
      "outputs": []
    },
    {
      "cell_type": "code",
      "source": [
        "auth = tweepy.OAuth1UserHandler(\n",
        "    TWITTER_API_KEY, TWITTER_API_SECRET, TWITTER_ACCESS_TOKEN, TWITTER_ACCESS_SECRET\n",
        ")\n",
        "twitter_api = tweepy.API(auth)"
      ],
      "metadata": {
        "id": "KMmUyhG6xeOo"
      },
      "execution_count": null,
      "outputs": []
    },
    {
      "cell_type": "code",
      "source": [],
      "metadata": {
        "id": "uIpxMu5uxeRQ"
      },
      "execution_count": null,
      "outputs": []
    },
    {
      "cell_type": "code",
      "source": [
        "auth = tweepy.OAuth1UserHandler(\n",
        "    TWITTER_API_KEY, TWITTER_API_SECRET, TWITTER_ACCESS_TOKEN, TWITTER_ACCESS_SECRET\n",
        ")\n",
        "twitter_api = tweepy.API(auth)"
      ],
      "metadata": {
        "id": "kBymgUwDsPLo"
      },
      "execution_count": null,
      "outputs": []
    },
    {
      "cell_type": "code",
      "source": [
        "# Your API key from the OpenAI website.\n",
        "os.environ[\"OPENAI_API_KEY\"] = \"YOUR_OPENAI_API_KEY\""
      ],
      "metadata": {
        "id": "e9bcAzFHtdf6"
      },
      "execution_count": null,
      "outputs": []
    },
    {
      "cell_type": "code",
      "source": [
        "llm = ChatOpenAI(temperature=0.3, model_name=\"gpt-3.5-turbo\")"
      ],
      "metadata": {
        "id": "x1ENu9Q-uy4p"
      },
      "execution_count": null,
      "outputs": []
    },
    {
      "cell_type": "code",
      "source": [
        "prompt_template = PromptTemplate(\n",
        "    input_variables=[\"tweet\", \"name\", \"designation\", \"followers\", \"following\", \"nationality\", \"sentiment\"],\n",
        "    template=\"\"\"\n",
        "Social media user {name} ({designation}) tweeted that {tweet}. The user has {followers} followers and follows {following} accounts. Nationality: {nationality}. Sentiment: {sentiment}.\n",
        "\"\"\"\n",
        ")\n",
        "\n",
        "chain = LLMChain(llm=llm, prompt=prompt_template)"
      ],
      "metadata": {
        "id": "UQM9-YlHsWvW"
      },
      "execution_count": null,
      "outputs": []
    },
    {
      "cell_type": "code",
      "source": [
        "def get_user_info(username):\n",
        "    try:\n",
        "        user = twitter_api.get_user(screen_name=username)\n",
        "        designation = user.description or \"N/F\"\n",
        "        location = user.location or \"N/F\"\n",
        "        nationality = location if location else \"N/F\"\n",
        "        return {\n",
        "            \"followers\": user.followers_count,\n",
        "            \"following\": user.friends_count,\n",
        "            \"designation\": designation,\n",
        "            \"nationality\": nationality\n",
        "        }\n",
        "    except Exception as e:\n",
        "        return {\n",
        "            \"followers\": \"N/F\",\n",
        "            \"following\": \"N/F\",\n",
        "            \"designation\": \"N/F\",\n",
        "            \"nationality\": \"N/F\"\n",
        "        }"
      ],
      "metadata": {
        "id": "TJdGtL1KuHKB"
      },
      "execution_count": null,
      "outputs": []
    },
    {
      "cell_type": "code",
      "source": [
        "def analyze_sentiment(text):\n",
        "    blob = TextBlob(text)\n",
        "    polarity = blob.sentiment.polarity\n",
        "    if polarity > 0:\n",
        "        return \"Positive\"\n",
        "    elif polarity < 0:\n",
        "        return \"Negative\"\n",
        "    else:\n",
        "        return \"Neutral\""
      ],
      "metadata": {
        "id": "wPkd14UouNyA"
      },
      "execution_count": null,
      "outputs": []
    },
    {
      "cell_type": "code",
      "source": [
        "def analyze_tweet(username, tweet_text):\n",
        "    user_info = get_user_info(username)\n",
        "    sentiment = analyze_sentiment(tweet_text)\n",
        "\n",
        "    formatted_output = chain.run(\n",
        "        tweet=tweet_text,\n",
        "        name=username,\n",
        "        designation=user_info[\"designation\"],\n",
        "        followers=user_info[\"followers\"],\n",
        "        following=user_info[\"following\"],\n",
        "        nationality=user_info[\"nationality\"],\n",
        "        sentiment=sentiment\n",
        "    )\n",
        "    return formatted_output"
      ],
      "metadata": {
        "id": "zZr8rAx_uSsz"
      },
      "execution_count": null,
      "outputs": []
    },
    {
      "cell_type": "code",
      "source": [
        "if __name__ == \"__main__\":\n",
        "    tweet1 = \"Women in Silchar Gathers protesting against arbitrary arrest amidst govt.'s \\\"Child Marriage Crackdown\\\".\"\n",
        "    tweet2 = \"India's Supreme Court agrees to remove remarks describing Sikkimese-Nepalese as people of \\\"foreign origin\\\" from the recently-passed judgment in \\\"Association of Old Settlers of Sikkim vs Union of India\\\". This comes after days of protests & subsequent legal intervention.\"\n",
        "\n",
        "    print(analyze_tweet(\"AnilJha\", tweet1))\n",
        "    print(analyze_tweet(\"NehaJournalist\", tweet2))"
      ],
      "metadata": {
        "id": "dqpt2MVwxeUD"
      },
      "execution_count": null,
      "outputs": []
    },
    {
      "cell_type": "code",
      "source": [],
      "metadata": {
        "id": "Xn6Z8GhcxeWf"
      },
      "execution_count": null,
      "outputs": []
    },
    {
      "cell_type": "code",
      "source": [],
      "metadata": {
        "id": "FwAoWcHsxeY8"
      },
      "execution_count": null,
      "outputs": []
    },
    {
      "cell_type": "code",
      "source": [],
      "metadata": {
        "id": "VIMo-3pNxeb0"
      },
      "execution_count": null,
      "outputs": []
    },
    {
      "cell_type": "code",
      "source": [],
      "metadata": {
        "id": "gA_jjT-FxeeD"
      },
      "execution_count": null,
      "outputs": []
    },
    {
      "cell_type": "code",
      "source": [],
      "metadata": {
        "id": "miZUaDA5xegj"
      },
      "execution_count": null,
      "outputs": []
    },
    {
      "cell_type": "code",
      "source": [],
      "metadata": {
        "id": "bIBLgZPRxej9"
      },
      "execution_count": null,
      "outputs": []
    }
  ]
}